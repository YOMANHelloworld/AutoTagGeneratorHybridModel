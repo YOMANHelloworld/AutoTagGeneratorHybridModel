{
  "cells": [
    {
      "cell_type": "code",
      "execution_count": 1,
      "metadata": {
        "id": "keb_XjyIdR-3"
      },
      "outputs": [],
      "source": [
        "import pandas as pd\n",
        "import numpy as np\n",
        "import random\n",
        "from sklearn.model_selection import train_test_split\n",
        "from transformers import BertTokenizer, BertForSequenceClassification, AutoTokenizer\n",
        "from torch.utils.data import DataLoader, Dataset\n",
        "from torch import cuda\n",
        "import torch\n",
        "from transformers import AdamW\n",
        "from tqdm import tqdm\n",
        "\n",
        "from transformers import AdamW\n",
        "from torch.utils.data import DataLoader, TensorDataset, random_split\n",
        "from sklearn.preprocessing import LabelEncoder\n",
        "from sklearn.ensemble import RandomForestClassifier\n",
        "from sklearn.metrics import accuracy_score, precision_score, recall_score, f1_score\n",
        "from transformers import BertModel\n",
        "from sklearn.metrics.pairwise import cosine_similarity\n",
        "\n",
        "from sklearn.feature_extraction.text import TfidfVectorizer\n",
        "\n",
        "from sklearn.metrics import confusion_matrix\n",
        "import seaborn as sns\n",
        "import matplotlib.pyplot as plt\n",
        "\n",
        "import pickle\n",
        "from scipy.spatial.distance import cosine\n",
        "\n",
        "import torch\n",
        "from sklearn.metrics.pairwise import cosine_similarity\n",
        "from collections import defaultdict"
      ]
    },
    {
      "cell_type": "code",
      "execution_count": 2,
      "metadata": {
        "colab": {
          "base_uri": "https://localhost:8080/"
        },
        "id": "JmZxpEnVdpFf",
        "outputId": "2d69a7d5-507c-4853-aa6f-405955db7a2b"
      },
      "outputs": [
        {
          "output_type": "stream",
          "name": "stdout",
          "text": [
            "Mounted at /content/drive\n"
          ]
        }
      ],
      "source": [
        "from google.colab import drive\n",
        "drive.mount('/content/drive')"
      ]
    },
    {
      "cell_type": "code",
      "execution_count": 3,
      "metadata": {
        "colab": {
          "base_uri": "https://localhost:8080/"
        },
        "id": "6_n4vbDmeLXP",
        "outputId": "962eee34-f3d2-4bc4-cb76-0660ce45cd82"
      },
      "outputs": [
        {
          "output_type": "stream",
          "name": "stdout",
          "text": [
            "     Publish Date                                              Title Category  \\\n",
            "0      10/06/2024          mastering java arrays comprehensive guide   ITJava   \n",
            "1      10/07/2024                 java array manipulation techniques   ITJava   \n",
            "2      10/08/2024                    efficient java array operations   ITJava   \n",
            "3      10/09/2024                      java array sorting algorithms   ITJava   \n",
            "4      10/10/2024                      dynamic arrays java explained   ITJava   \n",
            "...           ...                                                ...      ...   \n",
            "1033   11/15/2028  sorting algorithms java supply chain optimization   ITJava   \n",
            "1034   12/20/2028  java sorting algorithms energy management systems   ITJava   \n",
            "1035   01/15/2029        sorting algorithms java geospatial analysis   ITJava   \n",
            "1036   02/20/2029    java sorting algorithms smart grid applications   ITJava   \n",
            "1037   03/15/2029   sorting algorithms java transportation logistics   ITJava   \n",
            "\n",
            "     Views                                           Keywords  \\\n",
            "0      85K  java arrays mastering comprehensive guide prog...   \n",
            "1      88K     java array manipulation techniques programming   \n",
            "2      82K        java array operations efficient programming   \n",
            "3      86K          java array sorting algorithms programming   \n",
            "4      84K          java dynamic arrays explained programming   \n",
            "...    ...                                                ...   \n",
            "1033   95K  java sorting algorithms supply chain optimization   \n",
            "1034   98K  java sorting algorithms energy management systems   \n",
            "1035   93K        java sorting algorithms geospatial analysis   \n",
            "1036   97K    java sorting algorithms smart grid applications   \n",
            "1037   95K   java sorting algorithms transportation logistics   \n",
            "\n",
            "                                            Description  \n",
            "0     Comprehensive guide to mastering Java arrays f...  \n",
            "1     Exploring techniques for manipulating arrays i...  \n",
            "2     Optimizing Java array operations for better pe...  \n",
            "3     Understanding and implementing sorting algorit...  \n",
            "4     Understanding dynamic arrays and their usage i...  \n",
            "...                                                 ...  \n",
            "1033  Apply sorting algorithms in supply chain optim...  \n",
            "1034  Implement sorting algorithms in energy managem...  \n",
            "1035  Apply sorting algorithms in geospatial analysi...  \n",
            "1036  Implement sorting algorithms for smart grid ap...  \n",
            "1037  Apply sorting algorithms in transportation log...  \n",
            "\n",
            "[1038 rows x 6 columns]\n"
          ]
        }
      ],
      "source": [
        "# Load your dataset from the CSV file\n",
        "df = pd.read_csv('/content/drive/MyDrive/implementation/cleaned_dataset.csv', header= 0, encoding= 'unicode_escape')\n",
        "#df = df.dropna()\n",
        "print(df)\n",
        "#df.head()"
      ]
    },
    {
      "cell_type": "code",
      "execution_count": 4,
      "metadata": {
        "id": "CVo07ZiuEdvA"
      },
      "outputs": [],
      "source": [
        "X = df['Title'].astype(str)\n",
        "y = df['Keywords']\n",
        "\n",
        "#X = df['title'].astype(str)\n",
        "#y = df['tags']"
      ]
    },
    {
      "cell_type": "code",
      "execution_count": 5,
      "metadata": {
        "id": "Dgfs-gb7B4BI"
      },
      "outputs": [],
      "source": [
        "# Split the data into training and testing sets\n",
        "X_train, X_test, y_train, y_test = train_test_split(X, y, test_size=0.2, random_state=42)"
      ]
    },
    {
      "cell_type": "code",
      "execution_count": 6,
      "metadata": {
        "id": "_GifYfKeEWeD",
        "colab": {
          "base_uri": "https://localhost:8080/",
          "height": 254,
          "referenced_widgets": [
            "56a07cb4b712458a99d2770c6b63b894",
            "77ac2ce11b024670a4a3579916e2a7c6",
            "dfa7b4539f4049f688796d83fa39f511",
            "42c342c3bfa64e20b312cbaea57e2244",
            "6c09b2673cda4328a427fb05ef22c4c8",
            "451656eb0a4b4e75ac59ed2c3b06777b",
            "263b2b1376cc45098dc51675f823888a",
            "ebccccc04cef4c3f9b866e539f46a9ff",
            "5162ce6ce683492ea89f74a7e204a364",
            "7a81b0022c2543419e0513eb5b8fb702",
            "a8beaec9a1b64c10821f76d4b75a1245",
            "a20c100c610d43c2ace1cba61a3a2868",
            "f5cef230e7884e9bacf2655e8c8d24ac",
            "95625ba1f05642578e696a46a468ade2",
            "f4fd4771fe654ac995a04216bb9938bc",
            "f4550a0cb10343eb879a2e2cbc5764e0",
            "4656770d6ce34138af681ddc7b202284",
            "8270e15763b146e4b0b46980e965b670",
            "8d442b3d2f464e389080f58bb656dd4a",
            "f6a3f3edee25429fb247213a90a9fb01",
            "ea8ed2a1a0914bcb9e6d07f27497c432",
            "a586ef96fd8e459a9a122d6b1a687944",
            "1baf4983044842babd96dadaec6ad822",
            "aab540af2e114a1d85a05fb08cecff32",
            "42bf239a7480448db3a1b7ee0984128e",
            "4c1b8bd8e59443daa5733470e37e6b51",
            "4d24154939064e0fa40dd31df18b2629",
            "bc13064cd17f427eba36d39eaa80edd4",
            "3f6fcf6782a1400c845753f415fccf13",
            "dcb205d2f7f245e78599a0803d9c2ce7",
            "062347bf96a54f8c8ca664ccd90777d7",
            "d7f73cbbaca54dc996b0e2dd7a1456a5",
            "c48766fa74b04531b9b4c76dcc64bd0b",
            "f3239c9a229144a3be20b214c81712eb",
            "004702639f2141f095ddac7271be199f",
            "54957a5cebe045e182311a30cd4e13a4",
            "175ec1483ff149e2b2dd46448be1a306",
            "93fe251d875b4675a3919cdea7895849",
            "c6c8d2c554994407bfbaff2c20c84229",
            "06e5b9358efd45bb9acab52943546e93",
            "e2f5977b17fc42c0bb5c5765184894b0",
            "f8fe1b65451e4326af18b42c9130112f",
            "7e637c0b728f4adea560fa4db067a9a7",
            "b9381b3fa4a34278987b0737f9929e21"
          ]
        },
        "outputId": "de70eddd-255d-4909-85f2-5b2700b457e8"
      },
      "outputs": [
        {
          "output_type": "stream",
          "name": "stderr",
          "text": [
            "/usr/local/lib/python3.10/dist-packages/huggingface_hub/utils/_token.py:88: UserWarning: \n",
            "The secret `HF_TOKEN` does not exist in your Colab secrets.\n",
            "To authenticate with the Hugging Face Hub, create a token in your settings tab (https://huggingface.co/settings/tokens), set it as secret in your Google Colab and restart your session.\n",
            "You will be able to reuse this secret in all of your notebooks.\n",
            "Please note that authentication is recommended but still optional to access public models or datasets.\n",
            "  warnings.warn(\n"
          ]
        },
        {
          "output_type": "display_data",
          "data": {
            "text/plain": [
              "tokenizer_config.json:   0%|          | 0.00/48.0 [00:00<?, ?B/s]"
            ],
            "application/vnd.jupyter.widget-view+json": {
              "version_major": 2,
              "version_minor": 0,
              "model_id": "56a07cb4b712458a99d2770c6b63b894"
            }
          },
          "metadata": {}
        },
        {
          "output_type": "display_data",
          "data": {
            "text/plain": [
              "vocab.txt:   0%|          | 0.00/232k [00:00<?, ?B/s]"
            ],
            "application/vnd.jupyter.widget-view+json": {
              "version_major": 2,
              "version_minor": 0,
              "model_id": "a20c100c610d43c2ace1cba61a3a2868"
            }
          },
          "metadata": {}
        },
        {
          "output_type": "display_data",
          "data": {
            "text/plain": [
              "tokenizer.json:   0%|          | 0.00/466k [00:00<?, ?B/s]"
            ],
            "application/vnd.jupyter.widget-view+json": {
              "version_major": 2,
              "version_minor": 0,
              "model_id": "1baf4983044842babd96dadaec6ad822"
            }
          },
          "metadata": {}
        },
        {
          "output_type": "display_data",
          "data": {
            "text/plain": [
              "config.json:   0%|          | 0.00/570 [00:00<?, ?B/s]"
            ],
            "application/vnd.jupyter.widget-view+json": {
              "version_major": 2,
              "version_minor": 0,
              "model_id": "f3239c9a229144a3be20b214c81712eb"
            }
          },
          "metadata": {}
        }
      ],
      "source": [
        "# BERT Tokenizer\n",
        "tokenizer = BertTokenizer.from_pretrained('bert-base-uncased')\n",
        "#tokenizer = BertTokenizer.from_pretrained('bert-large-uncased-whole-word-masking-finetuned-squad')"
      ]
    },
    {
      "cell_type": "code",
      "execution_count": 24,
      "metadata": {
        "id": "N96xyxpCEWnw"
      },
      "outputs": [],
      "source": [
        "# Tokenize and pad the input data for BERT\n",
        "def tokenize_and_pad(text):\n",
        "    tokens = tokenizer.encode(text, max_length=128, truncation=True, padding='max_length', return_tensors='pt')\n",
        "    return tokens"
      ]
    },
    {
      "cell_type": "code",
      "execution_count": 25,
      "metadata": {
        "id": "5yh_xXDYEW0Q"
      },
      "outputs": [],
      "source": [
        "X_train_tokens = torch.cat([tokenize_and_pad(text) for text in X_train.values])\n",
        "X_test_tokens = torch.cat([tokenize_and_pad(text) for text in X_test.values])\n",
        "\n",
        "y_test_tokens = torch.cat([tokenize_and_pad(text) for text in y_test.values])"
      ]
    },
    {
      "cell_type": "code",
      "execution_count": 26,
      "metadata": {
        "id": "zlYdCQwdEXGJ"
      },
      "outputs": [],
      "source": [
        "# Use BERT to get embeddings\n",
        "bert_model = BertModel.from_pretrained('bert-base-uncased')\n",
        "#bert_model = BertModel.from_pretrained('bert-large-uncased-whole-word-masking-finetuned-squad')\n",
        "with torch.no_grad():\n",
        "    X_train_embeddings = bert_model(X_train_tokens).last_hidden_state.mean(dim=1)\n",
        "    X_test_embeddings = bert_model(X_test_tokens).last_hidden_state.mean(dim=1)\n",
        "\n",
        "    y_test_embeddings = bert_model(y_test_tokens).last_hidden_state.mean(dim=1)"
      ]
    },
    {
      "cell_type": "code",
      "execution_count": 27,
      "metadata": {
        "id": "LyjzoaD0F-VX"
      },
      "outputs": [],
      "source": [
        "# Combine BERT embeddings with TF-IDF features\n",
        "tfidf_vectorizer = TfidfVectorizer(max_features=5000)\n",
        "X_train_tfidf = tfidf_vectorizer.fit_transform(X_train)\n",
        "X_test_tfidf = tfidf_vectorizer.transform(X_test)\n",
        "\n",
        "y_test_tfidf = tfidf_vectorizer.transform(y_test)\n",
        "\n",
        "# Concatenate BERT embeddings with TF-IDF features\n",
        "X_train_combined = torch.cat([torch.tensor(X_train_tfidf.toarray(), dtype=torch.float32), X_train_embeddings], dim=1)\n",
        "X_test_combined = torch.cat([torch.tensor(X_test_tfidf.toarray(), dtype=torch.float32), X_test_embeddings], dim=1)\n",
        "\n",
        "y_test_combined = torch.cat([torch.tensor(y_test_tfidf.toarray(), dtype=torch.float32), y_test_embeddings], dim=1)"
      ]
    },
    {
      "cell_type": "code",
      "execution_count": 28,
      "metadata": {
        "colab": {
          "base_uri": "https://localhost:8080/",
          "height": 74
        },
        "id": "3fh2m3bPFTn7",
        "outputId": "6512d093-954b-4886-dad3-8cfad11ba5ac"
      },
      "outputs": [
        {
          "output_type": "execute_result",
          "data": {
            "text/plain": [
              "RandomForestClassifier(n_estimators=240, random_state=42)"
            ],
            "text/html": [
              "<style>#sk-container-id-1 {color: black;background-color: white;}#sk-container-id-1 pre{padding: 0;}#sk-container-id-1 div.sk-toggleable {background-color: white;}#sk-container-id-1 label.sk-toggleable__label {cursor: pointer;display: block;width: 100%;margin-bottom: 0;padding: 0.3em;box-sizing: border-box;text-align: center;}#sk-container-id-1 label.sk-toggleable__label-arrow:before {content: \"▸\";float: left;margin-right: 0.25em;color: #696969;}#sk-container-id-1 label.sk-toggleable__label-arrow:hover:before {color: black;}#sk-container-id-1 div.sk-estimator:hover label.sk-toggleable__label-arrow:before {color: black;}#sk-container-id-1 div.sk-toggleable__content {max-height: 0;max-width: 0;overflow: hidden;text-align: left;background-color: #f0f8ff;}#sk-container-id-1 div.sk-toggleable__content pre {margin: 0.2em;color: black;border-radius: 0.25em;background-color: #f0f8ff;}#sk-container-id-1 input.sk-toggleable__control:checked~div.sk-toggleable__content {max-height: 200px;max-width: 100%;overflow: auto;}#sk-container-id-1 input.sk-toggleable__control:checked~label.sk-toggleable__label-arrow:before {content: \"▾\";}#sk-container-id-1 div.sk-estimator input.sk-toggleable__control:checked~label.sk-toggleable__label {background-color: #d4ebff;}#sk-container-id-1 div.sk-label input.sk-toggleable__control:checked~label.sk-toggleable__label {background-color: #d4ebff;}#sk-container-id-1 input.sk-hidden--visually {border: 0;clip: rect(1px 1px 1px 1px);clip: rect(1px, 1px, 1px, 1px);height: 1px;margin: -1px;overflow: hidden;padding: 0;position: absolute;width: 1px;}#sk-container-id-1 div.sk-estimator {font-family: monospace;background-color: #f0f8ff;border: 1px dotted black;border-radius: 0.25em;box-sizing: border-box;margin-bottom: 0.5em;}#sk-container-id-1 div.sk-estimator:hover {background-color: #d4ebff;}#sk-container-id-1 div.sk-parallel-item::after {content: \"\";width: 100%;border-bottom: 1px solid gray;flex-grow: 1;}#sk-container-id-1 div.sk-label:hover label.sk-toggleable__label {background-color: #d4ebff;}#sk-container-id-1 div.sk-serial::before {content: \"\";position: absolute;border-left: 1px solid gray;box-sizing: border-box;top: 0;bottom: 0;left: 50%;z-index: 0;}#sk-container-id-1 div.sk-serial {display: flex;flex-direction: column;align-items: center;background-color: white;padding-right: 0.2em;padding-left: 0.2em;position: relative;}#sk-container-id-1 div.sk-item {position: relative;z-index: 1;}#sk-container-id-1 div.sk-parallel {display: flex;align-items: stretch;justify-content: center;background-color: white;position: relative;}#sk-container-id-1 div.sk-item::before, #sk-container-id-1 div.sk-parallel-item::before {content: \"\";position: absolute;border-left: 1px solid gray;box-sizing: border-box;top: 0;bottom: 0;left: 50%;z-index: -1;}#sk-container-id-1 div.sk-parallel-item {display: flex;flex-direction: column;z-index: 1;position: relative;background-color: white;}#sk-container-id-1 div.sk-parallel-item:first-child::after {align-self: flex-end;width: 50%;}#sk-container-id-1 div.sk-parallel-item:last-child::after {align-self: flex-start;width: 50%;}#sk-container-id-1 div.sk-parallel-item:only-child::after {width: 0;}#sk-container-id-1 div.sk-dashed-wrapped {border: 1px dashed gray;margin: 0 0.4em 0.5em 0.4em;box-sizing: border-box;padding-bottom: 0.4em;background-color: white;}#sk-container-id-1 div.sk-label label {font-family: monospace;font-weight: bold;display: inline-block;line-height: 1.2em;}#sk-container-id-1 div.sk-label-container {text-align: center;}#sk-container-id-1 div.sk-container {/* jupyter's `normalize.less` sets `[hidden] { display: none; }` but bootstrap.min.css set `[hidden] { display: none !important; }` so we also need the `!important` here to be able to override the default hidden behavior on the sphinx rendered scikit-learn.org. See: https://github.com/scikit-learn/scikit-learn/issues/21755 */display: inline-block !important;position: relative;}#sk-container-id-1 div.sk-text-repr-fallback {display: none;}</style><div id=\"sk-container-id-1\" class=\"sk-top-container\"><div class=\"sk-text-repr-fallback\"><pre>RandomForestClassifier(n_estimators=240, random_state=42)</pre><b>In a Jupyter environment, please rerun this cell to show the HTML representation or trust the notebook. <br />On GitHub, the HTML representation is unable to render, please try loading this page with nbviewer.org.</b></div><div class=\"sk-container\" hidden><div class=\"sk-item\"><div class=\"sk-estimator sk-toggleable\"><input class=\"sk-toggleable__control sk-hidden--visually\" id=\"sk-estimator-id-1\" type=\"checkbox\" checked><label for=\"sk-estimator-id-1\" class=\"sk-toggleable__label sk-toggleable__label-arrow\">RandomForestClassifier</label><div class=\"sk-toggleable__content\"><pre>RandomForestClassifier(n_estimators=240, random_state=42)</pre></div></div></div></div></div>"
            ]
          },
          "metadata": {},
          "execution_count": 28
        }
      ],
      "source": [
        "# Train a Random Forest classifier\n",
        "rf_model = RandomForestClassifier(n_estimators=240, random_state=42)\n",
        "rf_model.fit(X_train_combined, y_train)"
      ]
    },
    {
      "cell_type": "code",
      "execution_count": 29,
      "metadata": {
        "id": "Odez_litFUN5"
      },
      "outputs": [],
      "source": [
        "# Make predictions\n",
        "y_pred = rf_model.predict(X_test_combined)"
      ]
    },
    {
      "cell_type": "code",
      "source": [
        "y_pred_list = y_pred.tolist()\n",
        "y_pred_tokens = torch.cat([tokenize_and_pad(text) for text in y_pred_list])\n",
        "\n",
        "with torch.no_grad():\n",
        "    y_pred_embeddings = bert_model(y_pred_tokens).last_hidden_state.mean(dim=1)\n",
        "\n",
        "y_pred_tfidf = tfidf_vectorizer.transform(y_pred)\n",
        "\n",
        "y_pred_combined = torch.cat([torch.tensor(y_pred_tfidf.toarray(), dtype=torch.float32), y_pred_embeddings], dim=1)"
      ],
      "metadata": {
        "id": "kZiNEuKqVRr7"
      },
      "execution_count": 34,
      "outputs": []
    },
    {
      "cell_type": "markdown",
      "metadata": {
        "id": "D2gDpWTISZXk"
      },
      "source": [
        "# Evaluation"
      ]
    },
    {
      "cell_type": "code",
      "source": [
        "def two_vs_two(y_test, preds):\n",
        "\n",
        "    y_pred_unique = np.unique(preds, axis=0)\n",
        "    y_test_unique = np.unique(y_test, axis=0)\n",
        "\n",
        "    points = 0\n",
        "    total_points = 0\n",
        "    for i in range(y_pred_unique.shape[0] - 1):\n",
        "        s_i = y_test_unique[i]\n",
        "        s_i_pred = y_pred_unique[i]\n",
        "        for j in range(i+1, y_pred_unique.shape[0]):\n",
        "            s_j = y_test_unique[j]\n",
        "            s_j_pred = y_pred_unique[j]\n",
        "\n",
        "            # Compute cosine distance.\n",
        "            dsii = cosine(s_i, s_i_pred)\n",
        "            dsjj = cosine(s_j, s_j_pred)\n",
        "            dsij = cosine(s_i, s_j_pred)\n",
        "            dsji = cosine(s_j, s_i_pred)\n",
        "\n",
        "\n",
        "            if dsii + dsjj <= dsij + dsji:\n",
        "                points += 1\n",
        "            total_points += 1\n",
        "\n",
        "    return points, total_points, points * 1.0 / total_points"
      ],
      "metadata": {
        "id": "mHkdF1pyYgi0"
      },
      "execution_count": 32,
      "outputs": []
    },
    {
      "cell_type": "code",
      "source": [
        "#points, total_points , over_vector_accurancy = two_vs_two(y_test_combined, y_pred_combined)\n",
        "points, total_points , over_vector_accurancy = two_vs_two(y_test_combined, y_pred_combined)\n",
        "formatted_number = str(\"{:.2%}\".format(over_vector_accurancy))\n",
        "\n",
        "print(\"number of points that 2 vs. 2 scored = \" + str(points))\n",
        "print(\"total number of points that 2 vs. 2 has counted = \" + str(total_points))\n",
        "print(\"overall accuracy 2 vs. 2 that gave the score = \" + formatted_number)"
      ],
      "metadata": {
        "colab": {
          "base_uri": "https://localhost:8080/"
        },
        "id": "LXJBSYKeYkCV",
        "outputId": "fa0ec564-30fa-4160-aaab-418e7cadf96d"
      },
      "execution_count": 35,
      "outputs": [
        {
          "output_type": "stream",
          "name": "stdout",
          "text": [
            "number of points that 2 vs. 2 scored = 16795\n",
            "total number of points that 2 vs. 2 has counted = 21528\n",
            "overall accuracy 2 vs. 2 that gave the score = 78.01%\n"
          ]
        }
      ]
    },
    {
      "cell_type": "markdown",
      "source": [
        "# Model saving"
      ],
      "metadata": {
        "id": "CJ2M58kqqifE"
      }
    },
    {
      "cell_type": "code",
      "source": [
        " # Save model\n",
        "with open('/content/drive/MyDrive/implementation/models/best_model.pkl', 'wb') as f:\n",
        "     pickle.dump(rf_model, f)\n",
        "\n",
        "with open('/content/drive/MyDrive/implementation/models/vectorizer.pkl', 'wb') as file:\n",
        "    pickle.dump(tfidf_vectorizer, file)\n"
      ],
      "metadata": {
        "id": "nwVB75wsqiI1"
      },
      "execution_count": null,
      "outputs": []
    },
    {
      "cell_type": "markdown",
      "metadata": {
        "id": "R6HzTxYLuBZ0"
      },
      "source": [
        "# Small prototype"
      ]
    },
    {
      "cell_type": "code",
      "execution_count": null,
      "metadata": {
        "colab": {
          "base_uri": "https://localhost:8080/"
        },
        "id": "F6okBnS0vC6l",
        "outputId": "a53bd606-a75b-4629-ec2a-2c2a9249c905"
      },
      "outputs": [
        {
          "output_type": "stream",
          "name": "stderr",
          "text": [
            "[nltk_data] Downloading package punkt to /root/nltk_data...\n",
            "[nltk_data]   Unzipping tokenizers/punkt.zip.\n"
          ]
        }
      ],
      "source": [
        "import nltk\n",
        "nltk.download('punkt')\n",
        "from nltk.corpus import stopwords"
      ]
    },
    {
      "cell_type": "code",
      "execution_count": null,
      "metadata": {
        "colab": {
          "base_uri": "https://localhost:8080/"
        },
        "id": "3v3NaYwfu03V",
        "outputId": "c7e6f093-cb1e-4a44-ef46-692888215e4d"
      },
      "outputs": [
        {
          "output_type": "stream",
          "name": "stderr",
          "text": [
            "[nltk_data] Downloading package stopwords to /root/nltk_data...\n",
            "[nltk_data]   Unzipping corpora/stopwords.zip.\n"
          ]
        }
      ],
      "source": [
        "nltk.download('stopwords')\n",
        "stopwords_set = set(stopwords.words('english'))"
      ]
    },
    {
      "cell_type": "code",
      "execution_count": null,
      "metadata": {
        "id": "zlmI34UBNbCi"
      },
      "outputs": [],
      "source": [
        "# Function to predict keywords for a given title\n",
        "def predict_keywords(title, rf_model, tokenizer, bert_model, tfidf_vectorizer):\n",
        "\n",
        "    title = title.lower()\n",
        "\n",
        "    tokens = nltk.word_tokenize(title)\n",
        "    filtered_tokens = [token for token in tokens if token not in stopwords_set]\n",
        "    filtered_text = ' '.join(filtered_tokens)\n",
        "\n",
        "    print(filtered_text)\n",
        "\n",
        "    # Tokenize and pad the input title for BERT\n",
        "    title_tokens = tokenizer.encode(filtered_text, max_length=128, truncation=True, padding='max_length', return_tensors='pt')\n",
        "\n",
        "    # Get BERT embeddings\n",
        "    with torch.no_grad():\n",
        "        title_embedding = bert_model(title_tokens).last_hidden_state.mean(dim=1)\n",
        "\n",
        "    # TF-IDF vectorization\n",
        "    title_tfidf = tfidf_vectorizer.transform([title])\n",
        "\n",
        "    # Concatenate BERT embeddings with TF-IDF features\n",
        "    title_combined = torch.cat([torch.tensor(title_tfidf.toarray(), dtype=torch.float32), title_embedding], dim=1)\n",
        "\n",
        "    # Make prediction using the trained model\n",
        "    predicted_keywords = rf_model.predict(title_combined)\n",
        "\n",
        "    return predicted_keywords"
      ]
    },
    {
      "cell_type": "code",
      "execution_count": null,
      "metadata": {
        "colab": {
          "base_uri": "https://localhost:8080/"
        },
        "id": "k2vY89TeNcpB",
        "outputId": "6fa5e2b6-6314-47cd-bebd-6085a5aee6b6"
      },
      "outputs": [
        {
          "output_type": "stream",
          "name": "stdout",
          "text": [
            "sorting algorithms java\n",
            "Predicted Keywords for 'Sorting Algorithms in Java': ['java sorting algorithms evolutionary algorithms']\n"
          ]
        }
      ],
      "source": [
        "# Example usage:\n",
        "user_input_title = \"Sorting Algorithms in Java\"\n",
        "predicted_keywords = predict_keywords(user_input_title, rf_model, tokenizer, bert_model, tfidf_vectorizer)\n",
        "\n",
        "print(f\"Predicted Keywords for '{user_input_title}': {predicted_keywords}\")"
      ]
    },
    {
      "cell_type": "markdown",
      "metadata": {
        "id": "x7Zjmp9UsNWh"
      },
      "source": [
        "# Update prototype"
      ]
    },
    {
      "cell_type": "code",
      "execution_count": null,
      "metadata": {
        "id": "sEzZk2TMsRqn"
      },
      "outputs": [],
      "source": [
        "import torch\n",
        "import pickle\n",
        "from transformers import BertModel, BertTokenizer\n",
        "from sklearn.feature_extraction.text import TfidfVectorizer"
      ]
    },
    {
      "cell_type": "code",
      "execution_count": null,
      "metadata": {
        "id": "9OiMe-cLsXQX"
      },
      "outputs": [],
      "source": [
        "with open('/content/drive/MyDrive/implementation/best_model.pkl', 'rb') as f:\n",
        "    rf_model = pickle.load(f)"
      ]
    },
    {
      "cell_type": "code",
      "execution_count": null,
      "metadata": {
        "id": "4DeprElkseEf"
      },
      "outputs": [],
      "source": [
        "# Load BERT tokenizer\n",
        "tokenizer = BertTokenizer.from_pretrained('bert-base-uncased')\n",
        "\n",
        "# Load BERT model\n",
        "bert_model = BertModel.from_pretrained('bert-base-uncased')\n",
        "\n",
        "# TF-IDF Vectorizer\n",
        "tfidf_vectorizer = TfidfVectorizer(max_features=5000)\n",
        "\n",
        "X_train_tfidf = tfidf_vectorizer.fit_transform(X_train)"
      ]
    },
    {
      "cell_type": "code",
      "execution_count": null,
      "metadata": {
        "id": "UWU4Z2NTsgMm"
      },
      "outputs": [],
      "source": [
        "def preprocess_titles(titles):\n",
        "    # Tokenize and pad the input data for BERT\n",
        "    def tokenize_and_pad(text):\n",
        "        tokens = tokenizer.encode(text, max_length=128, truncation=True, padding='max_length', return_tensors='pt')\n",
        "        return tokens\n",
        "\n",
        "    # Get BERT embeddings\n",
        "    def get_bert_embeddings(tokens):\n",
        "        with torch.no_grad():\n",
        "            embeddings = bert_model(tokens).last_hidden_state.mean(dim=1)\n",
        "        return embeddings\n",
        "\n",
        "    # Tokenize and pad titles\n",
        "    title_tokens = torch.cat([tokenize_and_pad(title) for title in titles])\n",
        "\n",
        "    # Get BERT embeddings for titles\n",
        "    title_embeddings = get_bert_embeddings(title_tokens)\n",
        "\n",
        "    # Get TF-IDF features for titles\n",
        "    title_tfidf = tfidf_vectorizer.transform(titles)\n",
        "\n",
        "    # Combine BERT embeddings with TF-IDF features\n",
        "    title_combined = torch.cat([torch.tensor(title_tfidf.toarray(), dtype=torch.float32), title_embeddings], dim=1)\n",
        "\n",
        "    return title_combined"
      ]
    },
    {
      "cell_type": "code",
      "execution_count": null,
      "metadata": {
        "id": "QTW9hnXRshw2"
      },
      "outputs": [],
      "source": [
        "def predict_tag(title):\n",
        "    # Tokenize the input title\n",
        "    tokenized_title = tokenizer.encode(title, max_length=128, truncation=True, padding='max_length', return_tensors='pt')\n",
        "\n",
        "    # Get BERT embeddings for the input title\n",
        "    with torch.no_grad():\n",
        "        title_embedding = bert_model(tokenized_title).last_hidden_state.mean(dim=1)\n",
        "\n",
        "    # Convert the input title to TF-IDF features\n",
        "    title_tfidf = tfidf_vectorizer.transform([title])\n",
        "\n",
        "    # Combine BERT embeddings with TF-IDF features\n",
        "    combined_features = torch.cat([torch.tensor(title_tfidf.toarray(), dtype=torch.float32), title_embedding], dim=1)\n",
        "\n",
        "    # Make prediction using the loaded Random Forest model\n",
        "    predicted_tag = rf_model.predict(combined_features)\n",
        "\n",
        "    return predicted_tag[0]"
      ]
    },
    {
      "cell_type": "code",
      "execution_count": null,
      "metadata": {
        "colab": {
          "base_uri": "https://localhost:8080/"
        },
        "id": "jNyYsvpOsrkm",
        "outputId": "84dda967-d04a-4dcc-e762-ec8ba7eed691"
      },
      "outputs": [
        {
          "name": "stdout",
          "output_type": "stream",
          "text": [
            "Enter the title: array in java\n",
            "Predicted tag for the given title: casting in java, explicit casting, implicit casting, explicit casting in java, implicit casting in java\n"
          ]
        }
      ],
      "source": [
        "# Get user input\n",
        "user_title = input(\"Enter the title: \")\n",
        "\n",
        "# Make prediction\n",
        "predicted_tag = predict_tag(user_title)\n",
        "print(\"Predicted tag for the given title:\", predicted_tag)"
      ]
    },
    {
      "cell_type": "markdown",
      "metadata": {
        "id": "Ynrm4yjMQhMT"
      },
      "source": [
        "# Prototype"
      ]
    },
    {
      "cell_type": "code",
      "execution_count": null,
      "metadata": {
        "id": "mRSHVfE3RG8D"
      },
      "outputs": [],
      "source": [
        "with open('/content/drive/MyDrive/implementation/best_model.pkl', 'rb') as f:\n",
        "    model = pickle.load(f)\n",
        "\n",
        "with open('/content/drive/MyDrive/implementation/vectorizer.pkl', 'rb') as f:\n",
        "    vectorizer = pickle.load(f)"
      ]
    },
    {
      "cell_type": "code",
      "execution_count": null,
      "metadata": {
        "id": "NQr0idJARG4t"
      },
      "outputs": [],
      "source": [
        "# Load BERT Tokenizer\n",
        "tokenizer = BertTokenizer.from_pretrained('bert-base-uncased')\n",
        "\n",
        "# Load BERT model\n",
        "bert_model = BertModel.from_pretrained('bert-base-uncased')"
      ]
    }
  ],
  "metadata": {
    "colab": {
      "provenance": []
    },
    "kernelspec": {
      "display_name": "Python 3",
      "name": "python3"
    },
    "language_info": {
      "name": "python"
    },
    "widgets": {
      "application/vnd.jupyter.widget-state+json": {
        "56a07cb4b712458a99d2770c6b63b894": {
          "model_module": "@jupyter-widgets/controls",
          "model_name": "HBoxModel",
          "model_module_version": "1.5.0",
          "state": {
            "_dom_classes": [],
            "_model_module": "@jupyter-widgets/controls",
            "_model_module_version": "1.5.0",
            "_model_name": "HBoxModel",
            "_view_count": null,
            "_view_module": "@jupyter-widgets/controls",
            "_view_module_version": "1.5.0",
            "_view_name": "HBoxView",
            "box_style": "",
            "children": [
              "IPY_MODEL_77ac2ce11b024670a4a3579916e2a7c6",
              "IPY_MODEL_dfa7b4539f4049f688796d83fa39f511",
              "IPY_MODEL_42c342c3bfa64e20b312cbaea57e2244"
            ],
            "layout": "IPY_MODEL_6c09b2673cda4328a427fb05ef22c4c8"
          }
        },
        "77ac2ce11b024670a4a3579916e2a7c6": {
          "model_module": "@jupyter-widgets/controls",
          "model_name": "HTMLModel",
          "model_module_version": "1.5.0",
          "state": {
            "_dom_classes": [],
            "_model_module": "@jupyter-widgets/controls",
            "_model_module_version": "1.5.0",
            "_model_name": "HTMLModel",
            "_view_count": null,
            "_view_module": "@jupyter-widgets/controls",
            "_view_module_version": "1.5.0",
            "_view_name": "HTMLView",
            "description": "",
            "description_tooltip": null,
            "layout": "IPY_MODEL_451656eb0a4b4e75ac59ed2c3b06777b",
            "placeholder": "​",
            "style": "IPY_MODEL_263b2b1376cc45098dc51675f823888a",
            "value": "tokenizer_config.json: 100%"
          }
        },
        "dfa7b4539f4049f688796d83fa39f511": {
          "model_module": "@jupyter-widgets/controls",
          "model_name": "FloatProgressModel",
          "model_module_version": "1.5.0",
          "state": {
            "_dom_classes": [],
            "_model_module": "@jupyter-widgets/controls",
            "_model_module_version": "1.5.0",
            "_model_name": "FloatProgressModel",
            "_view_count": null,
            "_view_module": "@jupyter-widgets/controls",
            "_view_module_version": "1.5.0",
            "_view_name": "ProgressView",
            "bar_style": "success",
            "description": "",
            "description_tooltip": null,
            "layout": "IPY_MODEL_ebccccc04cef4c3f9b866e539f46a9ff",
            "max": 48,
            "min": 0,
            "orientation": "horizontal",
            "style": "IPY_MODEL_5162ce6ce683492ea89f74a7e204a364",
            "value": 48
          }
        },
        "42c342c3bfa64e20b312cbaea57e2244": {
          "model_module": "@jupyter-widgets/controls",
          "model_name": "HTMLModel",
          "model_module_version": "1.5.0",
          "state": {
            "_dom_classes": [],
            "_model_module": "@jupyter-widgets/controls",
            "_model_module_version": "1.5.0",
            "_model_name": "HTMLModel",
            "_view_count": null,
            "_view_module": "@jupyter-widgets/controls",
            "_view_module_version": "1.5.0",
            "_view_name": "HTMLView",
            "description": "",
            "description_tooltip": null,
            "layout": "IPY_MODEL_7a81b0022c2543419e0513eb5b8fb702",
            "placeholder": "​",
            "style": "IPY_MODEL_a8beaec9a1b64c10821f76d4b75a1245",
            "value": " 48.0/48.0 [00:00&lt;00:00, 532B/s]"
          }
        },
        "6c09b2673cda4328a427fb05ef22c4c8": {
          "model_module": "@jupyter-widgets/base",
          "model_name": "LayoutModel",
          "model_module_version": "1.2.0",
          "state": {
            "_model_module": "@jupyter-widgets/base",
            "_model_module_version": "1.2.0",
            "_model_name": "LayoutModel",
            "_view_count": null,
            "_view_module": "@jupyter-widgets/base",
            "_view_module_version": "1.2.0",
            "_view_name": "LayoutView",
            "align_content": null,
            "align_items": null,
            "align_self": null,
            "border": null,
            "bottom": null,
            "display": null,
            "flex": null,
            "flex_flow": null,
            "grid_area": null,
            "grid_auto_columns": null,
            "grid_auto_flow": null,
            "grid_auto_rows": null,
            "grid_column": null,
            "grid_gap": null,
            "grid_row": null,
            "grid_template_areas": null,
            "grid_template_columns": null,
            "grid_template_rows": null,
            "height": null,
            "justify_content": null,
            "justify_items": null,
            "left": null,
            "margin": null,
            "max_height": null,
            "max_width": null,
            "min_height": null,
            "min_width": null,
            "object_fit": null,
            "object_position": null,
            "order": null,
            "overflow": null,
            "overflow_x": null,
            "overflow_y": null,
            "padding": null,
            "right": null,
            "top": null,
            "visibility": null,
            "width": null
          }
        },
        "451656eb0a4b4e75ac59ed2c3b06777b": {
          "model_module": "@jupyter-widgets/base",
          "model_name": "LayoutModel",
          "model_module_version": "1.2.0",
          "state": {
            "_model_module": "@jupyter-widgets/base",
            "_model_module_version": "1.2.0",
            "_model_name": "LayoutModel",
            "_view_count": null,
            "_view_module": "@jupyter-widgets/base",
            "_view_module_version": "1.2.0",
            "_view_name": "LayoutView",
            "align_content": null,
            "align_items": null,
            "align_self": null,
            "border": null,
            "bottom": null,
            "display": null,
            "flex": null,
            "flex_flow": null,
            "grid_area": null,
            "grid_auto_columns": null,
            "grid_auto_flow": null,
            "grid_auto_rows": null,
            "grid_column": null,
            "grid_gap": null,
            "grid_row": null,
            "grid_template_areas": null,
            "grid_template_columns": null,
            "grid_template_rows": null,
            "height": null,
            "justify_content": null,
            "justify_items": null,
            "left": null,
            "margin": null,
            "max_height": null,
            "max_width": null,
            "min_height": null,
            "min_width": null,
            "object_fit": null,
            "object_position": null,
            "order": null,
            "overflow": null,
            "overflow_x": null,
            "overflow_y": null,
            "padding": null,
            "right": null,
            "top": null,
            "visibility": null,
            "width": null
          }
        },
        "263b2b1376cc45098dc51675f823888a": {
          "model_module": "@jupyter-widgets/controls",
          "model_name": "DescriptionStyleModel",
          "model_module_version": "1.5.0",
          "state": {
            "_model_module": "@jupyter-widgets/controls",
            "_model_module_version": "1.5.0",
            "_model_name": "DescriptionStyleModel",
            "_view_count": null,
            "_view_module": "@jupyter-widgets/base",
            "_view_module_version": "1.2.0",
            "_view_name": "StyleView",
            "description_width": ""
          }
        },
        "ebccccc04cef4c3f9b866e539f46a9ff": {
          "model_module": "@jupyter-widgets/base",
          "model_name": "LayoutModel",
          "model_module_version": "1.2.0",
          "state": {
            "_model_module": "@jupyter-widgets/base",
            "_model_module_version": "1.2.0",
            "_model_name": "LayoutModel",
            "_view_count": null,
            "_view_module": "@jupyter-widgets/base",
            "_view_module_version": "1.2.0",
            "_view_name": "LayoutView",
            "align_content": null,
            "align_items": null,
            "align_self": null,
            "border": null,
            "bottom": null,
            "display": null,
            "flex": null,
            "flex_flow": null,
            "grid_area": null,
            "grid_auto_columns": null,
            "grid_auto_flow": null,
            "grid_auto_rows": null,
            "grid_column": null,
            "grid_gap": null,
            "grid_row": null,
            "grid_template_areas": null,
            "grid_template_columns": null,
            "grid_template_rows": null,
            "height": null,
            "justify_content": null,
            "justify_items": null,
            "left": null,
            "margin": null,
            "max_height": null,
            "max_width": null,
            "min_height": null,
            "min_width": null,
            "object_fit": null,
            "object_position": null,
            "order": null,
            "overflow": null,
            "overflow_x": null,
            "overflow_y": null,
            "padding": null,
            "right": null,
            "top": null,
            "visibility": null,
            "width": null
          }
        },
        "5162ce6ce683492ea89f74a7e204a364": {
          "model_module": "@jupyter-widgets/controls",
          "model_name": "ProgressStyleModel",
          "model_module_version": "1.5.0",
          "state": {
            "_model_module": "@jupyter-widgets/controls",
            "_model_module_version": "1.5.0",
            "_model_name": "ProgressStyleModel",
            "_view_count": null,
            "_view_module": "@jupyter-widgets/base",
            "_view_module_version": "1.2.0",
            "_view_name": "StyleView",
            "bar_color": null,
            "description_width": ""
          }
        },
        "7a81b0022c2543419e0513eb5b8fb702": {
          "model_module": "@jupyter-widgets/base",
          "model_name": "LayoutModel",
          "model_module_version": "1.2.0",
          "state": {
            "_model_module": "@jupyter-widgets/base",
            "_model_module_version": "1.2.0",
            "_model_name": "LayoutModel",
            "_view_count": null,
            "_view_module": "@jupyter-widgets/base",
            "_view_module_version": "1.2.0",
            "_view_name": "LayoutView",
            "align_content": null,
            "align_items": null,
            "align_self": null,
            "border": null,
            "bottom": null,
            "display": null,
            "flex": null,
            "flex_flow": null,
            "grid_area": null,
            "grid_auto_columns": null,
            "grid_auto_flow": null,
            "grid_auto_rows": null,
            "grid_column": null,
            "grid_gap": null,
            "grid_row": null,
            "grid_template_areas": null,
            "grid_template_columns": null,
            "grid_template_rows": null,
            "height": null,
            "justify_content": null,
            "justify_items": null,
            "left": null,
            "margin": null,
            "max_height": null,
            "max_width": null,
            "min_height": null,
            "min_width": null,
            "object_fit": null,
            "object_position": null,
            "order": null,
            "overflow": null,
            "overflow_x": null,
            "overflow_y": null,
            "padding": null,
            "right": null,
            "top": null,
            "visibility": null,
            "width": null
          }
        },
        "a8beaec9a1b64c10821f76d4b75a1245": {
          "model_module": "@jupyter-widgets/controls",
          "model_name": "DescriptionStyleModel",
          "model_module_version": "1.5.0",
          "state": {
            "_model_module": "@jupyter-widgets/controls",
            "_model_module_version": "1.5.0",
            "_model_name": "DescriptionStyleModel",
            "_view_count": null,
            "_view_module": "@jupyter-widgets/base",
            "_view_module_version": "1.2.0",
            "_view_name": "StyleView",
            "description_width": ""
          }
        },
        "a20c100c610d43c2ace1cba61a3a2868": {
          "model_module": "@jupyter-widgets/controls",
          "model_name": "HBoxModel",
          "model_module_version": "1.5.0",
          "state": {
            "_dom_classes": [],
            "_model_module": "@jupyter-widgets/controls",
            "_model_module_version": "1.5.0",
            "_model_name": "HBoxModel",
            "_view_count": null,
            "_view_module": "@jupyter-widgets/controls",
            "_view_module_version": "1.5.0",
            "_view_name": "HBoxView",
            "box_style": "",
            "children": [
              "IPY_MODEL_f5cef230e7884e9bacf2655e8c8d24ac",
              "IPY_MODEL_95625ba1f05642578e696a46a468ade2",
              "IPY_MODEL_f4fd4771fe654ac995a04216bb9938bc"
            ],
            "layout": "IPY_MODEL_f4550a0cb10343eb879a2e2cbc5764e0"
          }
        },
        "f5cef230e7884e9bacf2655e8c8d24ac": {
          "model_module": "@jupyter-widgets/controls",
          "model_name": "HTMLModel",
          "model_module_version": "1.5.0",
          "state": {
            "_dom_classes": [],
            "_model_module": "@jupyter-widgets/controls",
            "_model_module_version": "1.5.0",
            "_model_name": "HTMLModel",
            "_view_count": null,
            "_view_module": "@jupyter-widgets/controls",
            "_view_module_version": "1.5.0",
            "_view_name": "HTMLView",
            "description": "",
            "description_tooltip": null,
            "layout": "IPY_MODEL_4656770d6ce34138af681ddc7b202284",
            "placeholder": "​",
            "style": "IPY_MODEL_8270e15763b146e4b0b46980e965b670",
            "value": "vocab.txt: 100%"
          }
        },
        "95625ba1f05642578e696a46a468ade2": {
          "model_module": "@jupyter-widgets/controls",
          "model_name": "FloatProgressModel",
          "model_module_version": "1.5.0",
          "state": {
            "_dom_classes": [],
            "_model_module": "@jupyter-widgets/controls",
            "_model_module_version": "1.5.0",
            "_model_name": "FloatProgressModel",
            "_view_count": null,
            "_view_module": "@jupyter-widgets/controls",
            "_view_module_version": "1.5.0",
            "_view_name": "ProgressView",
            "bar_style": "success",
            "description": "",
            "description_tooltip": null,
            "layout": "IPY_MODEL_8d442b3d2f464e389080f58bb656dd4a",
            "max": 231508,
            "min": 0,
            "orientation": "horizontal",
            "style": "IPY_MODEL_f6a3f3edee25429fb247213a90a9fb01",
            "value": 231508
          }
        },
        "f4fd4771fe654ac995a04216bb9938bc": {
          "model_module": "@jupyter-widgets/controls",
          "model_name": "HTMLModel",
          "model_module_version": "1.5.0",
          "state": {
            "_dom_classes": [],
            "_model_module": "@jupyter-widgets/controls",
            "_model_module_version": "1.5.0",
            "_model_name": "HTMLModel",
            "_view_count": null,
            "_view_module": "@jupyter-widgets/controls",
            "_view_module_version": "1.5.0",
            "_view_name": "HTMLView",
            "description": "",
            "description_tooltip": null,
            "layout": "IPY_MODEL_ea8ed2a1a0914bcb9e6d07f27497c432",
            "placeholder": "​",
            "style": "IPY_MODEL_a586ef96fd8e459a9a122d6b1a687944",
            "value": " 232k/232k [00:00&lt;00:00, 1.76MB/s]"
          }
        },
        "f4550a0cb10343eb879a2e2cbc5764e0": {
          "model_module": "@jupyter-widgets/base",
          "model_name": "LayoutModel",
          "model_module_version": "1.2.0",
          "state": {
            "_model_module": "@jupyter-widgets/base",
            "_model_module_version": "1.2.0",
            "_model_name": "LayoutModel",
            "_view_count": null,
            "_view_module": "@jupyter-widgets/base",
            "_view_module_version": "1.2.0",
            "_view_name": "LayoutView",
            "align_content": null,
            "align_items": null,
            "align_self": null,
            "border": null,
            "bottom": null,
            "display": null,
            "flex": null,
            "flex_flow": null,
            "grid_area": null,
            "grid_auto_columns": null,
            "grid_auto_flow": null,
            "grid_auto_rows": null,
            "grid_column": null,
            "grid_gap": null,
            "grid_row": null,
            "grid_template_areas": null,
            "grid_template_columns": null,
            "grid_template_rows": null,
            "height": null,
            "justify_content": null,
            "justify_items": null,
            "left": null,
            "margin": null,
            "max_height": null,
            "max_width": null,
            "min_height": null,
            "min_width": null,
            "object_fit": null,
            "object_position": null,
            "order": null,
            "overflow": null,
            "overflow_x": null,
            "overflow_y": null,
            "padding": null,
            "right": null,
            "top": null,
            "visibility": null,
            "width": null
          }
        },
        "4656770d6ce34138af681ddc7b202284": {
          "model_module": "@jupyter-widgets/base",
          "model_name": "LayoutModel",
          "model_module_version": "1.2.0",
          "state": {
            "_model_module": "@jupyter-widgets/base",
            "_model_module_version": "1.2.0",
            "_model_name": "LayoutModel",
            "_view_count": null,
            "_view_module": "@jupyter-widgets/base",
            "_view_module_version": "1.2.0",
            "_view_name": "LayoutView",
            "align_content": null,
            "align_items": null,
            "align_self": null,
            "border": null,
            "bottom": null,
            "display": null,
            "flex": null,
            "flex_flow": null,
            "grid_area": null,
            "grid_auto_columns": null,
            "grid_auto_flow": null,
            "grid_auto_rows": null,
            "grid_column": null,
            "grid_gap": null,
            "grid_row": null,
            "grid_template_areas": null,
            "grid_template_columns": null,
            "grid_template_rows": null,
            "height": null,
            "justify_content": null,
            "justify_items": null,
            "left": null,
            "margin": null,
            "max_height": null,
            "max_width": null,
            "min_height": null,
            "min_width": null,
            "object_fit": null,
            "object_position": null,
            "order": null,
            "overflow": null,
            "overflow_x": null,
            "overflow_y": null,
            "padding": null,
            "right": null,
            "top": null,
            "visibility": null,
            "width": null
          }
        },
        "8270e15763b146e4b0b46980e965b670": {
          "model_module": "@jupyter-widgets/controls",
          "model_name": "DescriptionStyleModel",
          "model_module_version": "1.5.0",
          "state": {
            "_model_module": "@jupyter-widgets/controls",
            "_model_module_version": "1.5.0",
            "_model_name": "DescriptionStyleModel",
            "_view_count": null,
            "_view_module": "@jupyter-widgets/base",
            "_view_module_version": "1.2.0",
            "_view_name": "StyleView",
            "description_width": ""
          }
        },
        "8d442b3d2f464e389080f58bb656dd4a": {
          "model_module": "@jupyter-widgets/base",
          "model_name": "LayoutModel",
          "model_module_version": "1.2.0",
          "state": {
            "_model_module": "@jupyter-widgets/base",
            "_model_module_version": "1.2.0",
            "_model_name": "LayoutModel",
            "_view_count": null,
            "_view_module": "@jupyter-widgets/base",
            "_view_module_version": "1.2.0",
            "_view_name": "LayoutView",
            "align_content": null,
            "align_items": null,
            "align_self": null,
            "border": null,
            "bottom": null,
            "display": null,
            "flex": null,
            "flex_flow": null,
            "grid_area": null,
            "grid_auto_columns": null,
            "grid_auto_flow": null,
            "grid_auto_rows": null,
            "grid_column": null,
            "grid_gap": null,
            "grid_row": null,
            "grid_template_areas": null,
            "grid_template_columns": null,
            "grid_template_rows": null,
            "height": null,
            "justify_content": null,
            "justify_items": null,
            "left": null,
            "margin": null,
            "max_height": null,
            "max_width": null,
            "min_height": null,
            "min_width": null,
            "object_fit": null,
            "object_position": null,
            "order": null,
            "overflow": null,
            "overflow_x": null,
            "overflow_y": null,
            "padding": null,
            "right": null,
            "top": null,
            "visibility": null,
            "width": null
          }
        },
        "f6a3f3edee25429fb247213a90a9fb01": {
          "model_module": "@jupyter-widgets/controls",
          "model_name": "ProgressStyleModel",
          "model_module_version": "1.5.0",
          "state": {
            "_model_module": "@jupyter-widgets/controls",
            "_model_module_version": "1.5.0",
            "_model_name": "ProgressStyleModel",
            "_view_count": null,
            "_view_module": "@jupyter-widgets/base",
            "_view_module_version": "1.2.0",
            "_view_name": "StyleView",
            "bar_color": null,
            "description_width": ""
          }
        },
        "ea8ed2a1a0914bcb9e6d07f27497c432": {
          "model_module": "@jupyter-widgets/base",
          "model_name": "LayoutModel",
          "model_module_version": "1.2.0",
          "state": {
            "_model_module": "@jupyter-widgets/base",
            "_model_module_version": "1.2.0",
            "_model_name": "LayoutModel",
            "_view_count": null,
            "_view_module": "@jupyter-widgets/base",
            "_view_module_version": "1.2.0",
            "_view_name": "LayoutView",
            "align_content": null,
            "align_items": null,
            "align_self": null,
            "border": null,
            "bottom": null,
            "display": null,
            "flex": null,
            "flex_flow": null,
            "grid_area": null,
            "grid_auto_columns": null,
            "grid_auto_flow": null,
            "grid_auto_rows": null,
            "grid_column": null,
            "grid_gap": null,
            "grid_row": null,
            "grid_template_areas": null,
            "grid_template_columns": null,
            "grid_template_rows": null,
            "height": null,
            "justify_content": null,
            "justify_items": null,
            "left": null,
            "margin": null,
            "max_height": null,
            "max_width": null,
            "min_height": null,
            "min_width": null,
            "object_fit": null,
            "object_position": null,
            "order": null,
            "overflow": null,
            "overflow_x": null,
            "overflow_y": null,
            "padding": null,
            "right": null,
            "top": null,
            "visibility": null,
            "width": null
          }
        },
        "a586ef96fd8e459a9a122d6b1a687944": {
          "model_module": "@jupyter-widgets/controls",
          "model_name": "DescriptionStyleModel",
          "model_module_version": "1.5.0",
          "state": {
            "_model_module": "@jupyter-widgets/controls",
            "_model_module_version": "1.5.0",
            "_model_name": "DescriptionStyleModel",
            "_view_count": null,
            "_view_module": "@jupyter-widgets/base",
            "_view_module_version": "1.2.0",
            "_view_name": "StyleView",
            "description_width": ""
          }
        },
        "1baf4983044842babd96dadaec6ad822": {
          "model_module": "@jupyter-widgets/controls",
          "model_name": "HBoxModel",
          "model_module_version": "1.5.0",
          "state": {
            "_dom_classes": [],
            "_model_module": "@jupyter-widgets/controls",
            "_model_module_version": "1.5.0",
            "_model_name": "HBoxModel",
            "_view_count": null,
            "_view_module": "@jupyter-widgets/controls",
            "_view_module_version": "1.5.0",
            "_view_name": "HBoxView",
            "box_style": "",
            "children": [
              "IPY_MODEL_aab540af2e114a1d85a05fb08cecff32",
              "IPY_MODEL_42bf239a7480448db3a1b7ee0984128e",
              "IPY_MODEL_4c1b8bd8e59443daa5733470e37e6b51"
            ],
            "layout": "IPY_MODEL_4d24154939064e0fa40dd31df18b2629"
          }
        },
        "aab540af2e114a1d85a05fb08cecff32": {
          "model_module": "@jupyter-widgets/controls",
          "model_name": "HTMLModel",
          "model_module_version": "1.5.0",
          "state": {
            "_dom_classes": [],
            "_model_module": "@jupyter-widgets/controls",
            "_model_module_version": "1.5.0",
            "_model_name": "HTMLModel",
            "_view_count": null,
            "_view_module": "@jupyter-widgets/controls",
            "_view_module_version": "1.5.0",
            "_view_name": "HTMLView",
            "description": "",
            "description_tooltip": null,
            "layout": "IPY_MODEL_bc13064cd17f427eba36d39eaa80edd4",
            "placeholder": "​",
            "style": "IPY_MODEL_3f6fcf6782a1400c845753f415fccf13",
            "value": "tokenizer.json: 100%"
          }
        },
        "42bf239a7480448db3a1b7ee0984128e": {
          "model_module": "@jupyter-widgets/controls",
          "model_name": "FloatProgressModel",
          "model_module_version": "1.5.0",
          "state": {
            "_dom_classes": [],
            "_model_module": "@jupyter-widgets/controls",
            "_model_module_version": "1.5.0",
            "_model_name": "FloatProgressModel",
            "_view_count": null,
            "_view_module": "@jupyter-widgets/controls",
            "_view_module_version": "1.5.0",
            "_view_name": "ProgressView",
            "bar_style": "success",
            "description": "",
            "description_tooltip": null,
            "layout": "IPY_MODEL_dcb205d2f7f245e78599a0803d9c2ce7",
            "max": 466062,
            "min": 0,
            "orientation": "horizontal",
            "style": "IPY_MODEL_062347bf96a54f8c8ca664ccd90777d7",
            "value": 466062
          }
        },
        "4c1b8bd8e59443daa5733470e37e6b51": {
          "model_module": "@jupyter-widgets/controls",
          "model_name": "HTMLModel",
          "model_module_version": "1.5.0",
          "state": {
            "_dom_classes": [],
            "_model_module": "@jupyter-widgets/controls",
            "_model_module_version": "1.5.0",
            "_model_name": "HTMLModel",
            "_view_count": null,
            "_view_module": "@jupyter-widgets/controls",
            "_view_module_version": "1.5.0",
            "_view_name": "HTMLView",
            "description": "",
            "description_tooltip": null,
            "layout": "IPY_MODEL_d7f73cbbaca54dc996b0e2dd7a1456a5",
            "placeholder": "​",
            "style": "IPY_MODEL_c48766fa74b04531b9b4c76dcc64bd0b",
            "value": " 466k/466k [00:00&lt;00:00, 2.42MB/s]"
          }
        },
        "4d24154939064e0fa40dd31df18b2629": {
          "model_module": "@jupyter-widgets/base",
          "model_name": "LayoutModel",
          "model_module_version": "1.2.0",
          "state": {
            "_model_module": "@jupyter-widgets/base",
            "_model_module_version": "1.2.0",
            "_model_name": "LayoutModel",
            "_view_count": null,
            "_view_module": "@jupyter-widgets/base",
            "_view_module_version": "1.2.0",
            "_view_name": "LayoutView",
            "align_content": null,
            "align_items": null,
            "align_self": null,
            "border": null,
            "bottom": null,
            "display": null,
            "flex": null,
            "flex_flow": null,
            "grid_area": null,
            "grid_auto_columns": null,
            "grid_auto_flow": null,
            "grid_auto_rows": null,
            "grid_column": null,
            "grid_gap": null,
            "grid_row": null,
            "grid_template_areas": null,
            "grid_template_columns": null,
            "grid_template_rows": null,
            "height": null,
            "justify_content": null,
            "justify_items": null,
            "left": null,
            "margin": null,
            "max_height": null,
            "max_width": null,
            "min_height": null,
            "min_width": null,
            "object_fit": null,
            "object_position": null,
            "order": null,
            "overflow": null,
            "overflow_x": null,
            "overflow_y": null,
            "padding": null,
            "right": null,
            "top": null,
            "visibility": null,
            "width": null
          }
        },
        "bc13064cd17f427eba36d39eaa80edd4": {
          "model_module": "@jupyter-widgets/base",
          "model_name": "LayoutModel",
          "model_module_version": "1.2.0",
          "state": {
            "_model_module": "@jupyter-widgets/base",
            "_model_module_version": "1.2.0",
            "_model_name": "LayoutModel",
            "_view_count": null,
            "_view_module": "@jupyter-widgets/base",
            "_view_module_version": "1.2.0",
            "_view_name": "LayoutView",
            "align_content": null,
            "align_items": null,
            "align_self": null,
            "border": null,
            "bottom": null,
            "display": null,
            "flex": null,
            "flex_flow": null,
            "grid_area": null,
            "grid_auto_columns": null,
            "grid_auto_flow": null,
            "grid_auto_rows": null,
            "grid_column": null,
            "grid_gap": null,
            "grid_row": null,
            "grid_template_areas": null,
            "grid_template_columns": null,
            "grid_template_rows": null,
            "height": null,
            "justify_content": null,
            "justify_items": null,
            "left": null,
            "margin": null,
            "max_height": null,
            "max_width": null,
            "min_height": null,
            "min_width": null,
            "object_fit": null,
            "object_position": null,
            "order": null,
            "overflow": null,
            "overflow_x": null,
            "overflow_y": null,
            "padding": null,
            "right": null,
            "top": null,
            "visibility": null,
            "width": null
          }
        },
        "3f6fcf6782a1400c845753f415fccf13": {
          "model_module": "@jupyter-widgets/controls",
          "model_name": "DescriptionStyleModel",
          "model_module_version": "1.5.0",
          "state": {
            "_model_module": "@jupyter-widgets/controls",
            "_model_module_version": "1.5.0",
            "_model_name": "DescriptionStyleModel",
            "_view_count": null,
            "_view_module": "@jupyter-widgets/base",
            "_view_module_version": "1.2.0",
            "_view_name": "StyleView",
            "description_width": ""
          }
        },
        "dcb205d2f7f245e78599a0803d9c2ce7": {
          "model_module": "@jupyter-widgets/base",
          "model_name": "LayoutModel",
          "model_module_version": "1.2.0",
          "state": {
            "_model_module": "@jupyter-widgets/base",
            "_model_module_version": "1.2.0",
            "_model_name": "LayoutModel",
            "_view_count": null,
            "_view_module": "@jupyter-widgets/base",
            "_view_module_version": "1.2.0",
            "_view_name": "LayoutView",
            "align_content": null,
            "align_items": null,
            "align_self": null,
            "border": null,
            "bottom": null,
            "display": null,
            "flex": null,
            "flex_flow": null,
            "grid_area": null,
            "grid_auto_columns": null,
            "grid_auto_flow": null,
            "grid_auto_rows": null,
            "grid_column": null,
            "grid_gap": null,
            "grid_row": null,
            "grid_template_areas": null,
            "grid_template_columns": null,
            "grid_template_rows": null,
            "height": null,
            "justify_content": null,
            "justify_items": null,
            "left": null,
            "margin": null,
            "max_height": null,
            "max_width": null,
            "min_height": null,
            "min_width": null,
            "object_fit": null,
            "object_position": null,
            "order": null,
            "overflow": null,
            "overflow_x": null,
            "overflow_y": null,
            "padding": null,
            "right": null,
            "top": null,
            "visibility": null,
            "width": null
          }
        },
        "062347bf96a54f8c8ca664ccd90777d7": {
          "model_module": "@jupyter-widgets/controls",
          "model_name": "ProgressStyleModel",
          "model_module_version": "1.5.0",
          "state": {
            "_model_module": "@jupyter-widgets/controls",
            "_model_module_version": "1.5.0",
            "_model_name": "ProgressStyleModel",
            "_view_count": null,
            "_view_module": "@jupyter-widgets/base",
            "_view_module_version": "1.2.0",
            "_view_name": "StyleView",
            "bar_color": null,
            "description_width": ""
          }
        },
        "d7f73cbbaca54dc996b0e2dd7a1456a5": {
          "model_module": "@jupyter-widgets/base",
          "model_name": "LayoutModel",
          "model_module_version": "1.2.0",
          "state": {
            "_model_module": "@jupyter-widgets/base",
            "_model_module_version": "1.2.0",
            "_model_name": "LayoutModel",
            "_view_count": null,
            "_view_module": "@jupyter-widgets/base",
            "_view_module_version": "1.2.0",
            "_view_name": "LayoutView",
            "align_content": null,
            "align_items": null,
            "align_self": null,
            "border": null,
            "bottom": null,
            "display": null,
            "flex": null,
            "flex_flow": null,
            "grid_area": null,
            "grid_auto_columns": null,
            "grid_auto_flow": null,
            "grid_auto_rows": null,
            "grid_column": null,
            "grid_gap": null,
            "grid_row": null,
            "grid_template_areas": null,
            "grid_template_columns": null,
            "grid_template_rows": null,
            "height": null,
            "justify_content": null,
            "justify_items": null,
            "left": null,
            "margin": null,
            "max_height": null,
            "max_width": null,
            "min_height": null,
            "min_width": null,
            "object_fit": null,
            "object_position": null,
            "order": null,
            "overflow": null,
            "overflow_x": null,
            "overflow_y": null,
            "padding": null,
            "right": null,
            "top": null,
            "visibility": null,
            "width": null
          }
        },
        "c48766fa74b04531b9b4c76dcc64bd0b": {
          "model_module": "@jupyter-widgets/controls",
          "model_name": "DescriptionStyleModel",
          "model_module_version": "1.5.0",
          "state": {
            "_model_module": "@jupyter-widgets/controls",
            "_model_module_version": "1.5.0",
            "_model_name": "DescriptionStyleModel",
            "_view_count": null,
            "_view_module": "@jupyter-widgets/base",
            "_view_module_version": "1.2.0",
            "_view_name": "StyleView",
            "description_width": ""
          }
        },
        "f3239c9a229144a3be20b214c81712eb": {
          "model_module": "@jupyter-widgets/controls",
          "model_name": "HBoxModel",
          "model_module_version": "1.5.0",
          "state": {
            "_dom_classes": [],
            "_model_module": "@jupyter-widgets/controls",
            "_model_module_version": "1.5.0",
            "_model_name": "HBoxModel",
            "_view_count": null,
            "_view_module": "@jupyter-widgets/controls",
            "_view_module_version": "1.5.0",
            "_view_name": "HBoxView",
            "box_style": "",
            "children": [
              "IPY_MODEL_004702639f2141f095ddac7271be199f",
              "IPY_MODEL_54957a5cebe045e182311a30cd4e13a4",
              "IPY_MODEL_175ec1483ff149e2b2dd46448be1a306"
            ],
            "layout": "IPY_MODEL_93fe251d875b4675a3919cdea7895849"
          }
        },
        "004702639f2141f095ddac7271be199f": {
          "model_module": "@jupyter-widgets/controls",
          "model_name": "HTMLModel",
          "model_module_version": "1.5.0",
          "state": {
            "_dom_classes": [],
            "_model_module": "@jupyter-widgets/controls",
            "_model_module_version": "1.5.0",
            "_model_name": "HTMLModel",
            "_view_count": null,
            "_view_module": "@jupyter-widgets/controls",
            "_view_module_version": "1.5.0",
            "_view_name": "HTMLView",
            "description": "",
            "description_tooltip": null,
            "layout": "IPY_MODEL_c6c8d2c554994407bfbaff2c20c84229",
            "placeholder": "​",
            "style": "IPY_MODEL_06e5b9358efd45bb9acab52943546e93",
            "value": "config.json: 100%"
          }
        },
        "54957a5cebe045e182311a30cd4e13a4": {
          "model_module": "@jupyter-widgets/controls",
          "model_name": "FloatProgressModel",
          "model_module_version": "1.5.0",
          "state": {
            "_dom_classes": [],
            "_model_module": "@jupyter-widgets/controls",
            "_model_module_version": "1.5.0",
            "_model_name": "FloatProgressModel",
            "_view_count": null,
            "_view_module": "@jupyter-widgets/controls",
            "_view_module_version": "1.5.0",
            "_view_name": "ProgressView",
            "bar_style": "success",
            "description": "",
            "description_tooltip": null,
            "layout": "IPY_MODEL_e2f5977b17fc42c0bb5c5765184894b0",
            "max": 570,
            "min": 0,
            "orientation": "horizontal",
            "style": "IPY_MODEL_f8fe1b65451e4326af18b42c9130112f",
            "value": 570
          }
        },
        "175ec1483ff149e2b2dd46448be1a306": {
          "model_module": "@jupyter-widgets/controls",
          "model_name": "HTMLModel",
          "model_module_version": "1.5.0",
          "state": {
            "_dom_classes": [],
            "_model_module": "@jupyter-widgets/controls",
            "_model_module_version": "1.5.0",
            "_model_name": "HTMLModel",
            "_view_count": null,
            "_view_module": "@jupyter-widgets/controls",
            "_view_module_version": "1.5.0",
            "_view_name": "HTMLView",
            "description": "",
            "description_tooltip": null,
            "layout": "IPY_MODEL_7e637c0b728f4adea560fa4db067a9a7",
            "placeholder": "​",
            "style": "IPY_MODEL_b9381b3fa4a34278987b0737f9929e21",
            "value": " 570/570 [00:00&lt;00:00, 7.71kB/s]"
          }
        },
        "93fe251d875b4675a3919cdea7895849": {
          "model_module": "@jupyter-widgets/base",
          "model_name": "LayoutModel",
          "model_module_version": "1.2.0",
          "state": {
            "_model_module": "@jupyter-widgets/base",
            "_model_module_version": "1.2.0",
            "_model_name": "LayoutModel",
            "_view_count": null,
            "_view_module": "@jupyter-widgets/base",
            "_view_module_version": "1.2.0",
            "_view_name": "LayoutView",
            "align_content": null,
            "align_items": null,
            "align_self": null,
            "border": null,
            "bottom": null,
            "display": null,
            "flex": null,
            "flex_flow": null,
            "grid_area": null,
            "grid_auto_columns": null,
            "grid_auto_flow": null,
            "grid_auto_rows": null,
            "grid_column": null,
            "grid_gap": null,
            "grid_row": null,
            "grid_template_areas": null,
            "grid_template_columns": null,
            "grid_template_rows": null,
            "height": null,
            "justify_content": null,
            "justify_items": null,
            "left": null,
            "margin": null,
            "max_height": null,
            "max_width": null,
            "min_height": null,
            "min_width": null,
            "object_fit": null,
            "object_position": null,
            "order": null,
            "overflow": null,
            "overflow_x": null,
            "overflow_y": null,
            "padding": null,
            "right": null,
            "top": null,
            "visibility": null,
            "width": null
          }
        },
        "c6c8d2c554994407bfbaff2c20c84229": {
          "model_module": "@jupyter-widgets/base",
          "model_name": "LayoutModel",
          "model_module_version": "1.2.0",
          "state": {
            "_model_module": "@jupyter-widgets/base",
            "_model_module_version": "1.2.0",
            "_model_name": "LayoutModel",
            "_view_count": null,
            "_view_module": "@jupyter-widgets/base",
            "_view_module_version": "1.2.0",
            "_view_name": "LayoutView",
            "align_content": null,
            "align_items": null,
            "align_self": null,
            "border": null,
            "bottom": null,
            "display": null,
            "flex": null,
            "flex_flow": null,
            "grid_area": null,
            "grid_auto_columns": null,
            "grid_auto_flow": null,
            "grid_auto_rows": null,
            "grid_column": null,
            "grid_gap": null,
            "grid_row": null,
            "grid_template_areas": null,
            "grid_template_columns": null,
            "grid_template_rows": null,
            "height": null,
            "justify_content": null,
            "justify_items": null,
            "left": null,
            "margin": null,
            "max_height": null,
            "max_width": null,
            "min_height": null,
            "min_width": null,
            "object_fit": null,
            "object_position": null,
            "order": null,
            "overflow": null,
            "overflow_x": null,
            "overflow_y": null,
            "padding": null,
            "right": null,
            "top": null,
            "visibility": null,
            "width": null
          }
        },
        "06e5b9358efd45bb9acab52943546e93": {
          "model_module": "@jupyter-widgets/controls",
          "model_name": "DescriptionStyleModel",
          "model_module_version": "1.5.0",
          "state": {
            "_model_module": "@jupyter-widgets/controls",
            "_model_module_version": "1.5.0",
            "_model_name": "DescriptionStyleModel",
            "_view_count": null,
            "_view_module": "@jupyter-widgets/base",
            "_view_module_version": "1.2.0",
            "_view_name": "StyleView",
            "description_width": ""
          }
        },
        "e2f5977b17fc42c0bb5c5765184894b0": {
          "model_module": "@jupyter-widgets/base",
          "model_name": "LayoutModel",
          "model_module_version": "1.2.0",
          "state": {
            "_model_module": "@jupyter-widgets/base",
            "_model_module_version": "1.2.0",
            "_model_name": "LayoutModel",
            "_view_count": null,
            "_view_module": "@jupyter-widgets/base",
            "_view_module_version": "1.2.0",
            "_view_name": "LayoutView",
            "align_content": null,
            "align_items": null,
            "align_self": null,
            "border": null,
            "bottom": null,
            "display": null,
            "flex": null,
            "flex_flow": null,
            "grid_area": null,
            "grid_auto_columns": null,
            "grid_auto_flow": null,
            "grid_auto_rows": null,
            "grid_column": null,
            "grid_gap": null,
            "grid_row": null,
            "grid_template_areas": null,
            "grid_template_columns": null,
            "grid_template_rows": null,
            "height": null,
            "justify_content": null,
            "justify_items": null,
            "left": null,
            "margin": null,
            "max_height": null,
            "max_width": null,
            "min_height": null,
            "min_width": null,
            "object_fit": null,
            "object_position": null,
            "order": null,
            "overflow": null,
            "overflow_x": null,
            "overflow_y": null,
            "padding": null,
            "right": null,
            "top": null,
            "visibility": null,
            "width": null
          }
        },
        "f8fe1b65451e4326af18b42c9130112f": {
          "model_module": "@jupyter-widgets/controls",
          "model_name": "ProgressStyleModel",
          "model_module_version": "1.5.0",
          "state": {
            "_model_module": "@jupyter-widgets/controls",
            "_model_module_version": "1.5.0",
            "_model_name": "ProgressStyleModel",
            "_view_count": null,
            "_view_module": "@jupyter-widgets/base",
            "_view_module_version": "1.2.0",
            "_view_name": "StyleView",
            "bar_color": null,
            "description_width": ""
          }
        },
        "7e637c0b728f4adea560fa4db067a9a7": {
          "model_module": "@jupyter-widgets/base",
          "model_name": "LayoutModel",
          "model_module_version": "1.2.0",
          "state": {
            "_model_module": "@jupyter-widgets/base",
            "_model_module_version": "1.2.0",
            "_model_name": "LayoutModel",
            "_view_count": null,
            "_view_module": "@jupyter-widgets/base",
            "_view_module_version": "1.2.0",
            "_view_name": "LayoutView",
            "align_content": null,
            "align_items": null,
            "align_self": null,
            "border": null,
            "bottom": null,
            "display": null,
            "flex": null,
            "flex_flow": null,
            "grid_area": null,
            "grid_auto_columns": null,
            "grid_auto_flow": null,
            "grid_auto_rows": null,
            "grid_column": null,
            "grid_gap": null,
            "grid_row": null,
            "grid_template_areas": null,
            "grid_template_columns": null,
            "grid_template_rows": null,
            "height": null,
            "justify_content": null,
            "justify_items": null,
            "left": null,
            "margin": null,
            "max_height": null,
            "max_width": null,
            "min_height": null,
            "min_width": null,
            "object_fit": null,
            "object_position": null,
            "order": null,
            "overflow": null,
            "overflow_x": null,
            "overflow_y": null,
            "padding": null,
            "right": null,
            "top": null,
            "visibility": null,
            "width": null
          }
        },
        "b9381b3fa4a34278987b0737f9929e21": {
          "model_module": "@jupyter-widgets/controls",
          "model_name": "DescriptionStyleModel",
          "model_module_version": "1.5.0",
          "state": {
            "_model_module": "@jupyter-widgets/controls",
            "_model_module_version": "1.5.0",
            "_model_name": "DescriptionStyleModel",
            "_view_count": null,
            "_view_module": "@jupyter-widgets/base",
            "_view_module_version": "1.2.0",
            "_view_name": "StyleView",
            "description_width": ""
          }
        }
      }
    }
  },
  "nbformat": 4,
  "nbformat_minor": 0
}